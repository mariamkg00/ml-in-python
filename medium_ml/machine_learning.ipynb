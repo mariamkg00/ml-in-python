{
 "cells": [
  {
   "cell_type": "markdown",
   "metadata": {},
   "source": [
    "Two main types of Machine Learning\n",
    "\n",
    "*Supervised*: the machine already knows what the correct output should look like, they already know that there is a relationship between the input and output variable.\n",
    "\n",
    "- classification: process of finding a model that separates input data into multiple discrete classes or labels [true or false, male or female]\n",
    "\n",
    "- regression: process of finding a model that predicts a continuous value based on its input variables\n",
    "\n",
    "\n",
    "*Unsupervised*: the machine doesn't know what the correct output is, allowing us to approach problems with little to no idea what results should look like\n",
    "\n",
    "- clustering: grouping objects into clusters\n"
   ]
  },
  {
   "cell_type": "markdown",
   "metadata": {},
   "source": [
    "## Linear Regression Implementation in Python\n",
    "\n",
    "Regression predicts continuous values like temperature, price, salary, etc.\n",
    "\n",
    "Linear regression is mainly used for finding a linear relationship between the target and one or more predictors by fitting the best linear relationship between the dependent (target) and independent variables (predictors)\n",
    "\n",
    "\n",
    "### Assumptions:\n",
    "Predictor variables should be linearly related to the dependent variables.\n",
    "\n",
    "The data should be normally distributed\n",
    "\n",
    "There should be little or no multicollinearity present in the data\n",
    "\n",
    "The mean of the residual (difference between actual and predicted value) is 0.\n",
    "\n",
    "\n",
    "### Simple linear regression\n",
    "- helps us find linear relationship between 2 continuous variables\n",
    "\n",
    "Equation: Y = β0 + β1X + e\n",
    "Y = dependent variable/target variable\n",
    "β0 = intercept of the regression line\n",
    "β1 = slope of the regression line \n",
    "X = independent variable/predictor variable\n",
    "e = error\n",
    "\n",
    "\n",
    "### Implementation using Python\n",
    "**Problem statement** : Build a simple linear regression model to predict sales based on the money spent on TV for advertising."
   ]
  },
  {
   "cell_type": "code",
   "execution_count": 13,
   "metadata": {},
   "outputs": [
    {
     "data": {
      "text/html": [
       "<div>\n",
       "<style scoped>\n",
       "    .dataframe tbody tr th:only-of-type {\n",
       "        vertical-align: middle;\n",
       "    }\n",
       "\n",
       "    .dataframe tbody tr th {\n",
       "        vertical-align: top;\n",
       "    }\n",
       "\n",
       "    .dataframe thead th {\n",
       "        text-align: right;\n",
       "    }\n",
       "</style>\n",
       "<table border=\"1\" class=\"dataframe\">\n",
       "  <thead>\n",
       "    <tr style=\"text-align: right;\">\n",
       "      <th></th>\n",
       "      <th>TV</th>\n",
       "      <th>Sales</th>\n",
       "    </tr>\n",
       "  </thead>\n",
       "  <tbody>\n",
       "    <tr>\n",
       "      <th>0</th>\n",
       "      <td>230.1</td>\n",
       "      <td>22.1</td>\n",
       "    </tr>\n",
       "    <tr>\n",
       "      <th>1</th>\n",
       "      <td>44.5</td>\n",
       "      <td>10.4</td>\n",
       "    </tr>\n",
       "    <tr>\n",
       "      <th>2</th>\n",
       "      <td>17.2</td>\n",
       "      <td>12.0</td>\n",
       "    </tr>\n",
       "    <tr>\n",
       "      <th>3</th>\n",
       "      <td>151.5</td>\n",
       "      <td>16.5</td>\n",
       "    </tr>\n",
       "    <tr>\n",
       "      <th>4</th>\n",
       "      <td>180.8</td>\n",
       "      <td>17.9</td>\n",
       "    </tr>\n",
       "  </tbody>\n",
       "</table>\n",
       "</div>"
      ],
      "text/plain": [
       "      TV  Sales\n",
       "0  230.1   22.1\n",
       "1   44.5   10.4\n",
       "2   17.2   12.0\n",
       "3  151.5   16.5\n",
       "4  180.8   17.9"
      ]
     },
     "execution_count": 13,
     "metadata": {},
     "output_type": "execute_result"
    }
   ],
   "source": [
    "# importing needed libraries\n",
    "import pandas as pd\n",
    "import numpy as np\n",
    "import matplotlib.pyplot as plt\n",
    "import seaborn as sns\n",
    "from sklearn.model_selection import train_test_split\n",
    "from sklearn.linear_model import LinearRegression\n",
    "\n",
    "# reading the dataset\n",
    "ad = pd.read_csv(\"advertising.csv\")\n",
    "\n",
    "ad.head()\n",
    "\n",
    "\n",
    "# Since our problem only needs Sales and TV, we do not need radio\n",
    "# and newspaper columns. \n",
    "ad.drop(columns=['Radio','Newspaper'], inplace = True)\n",
    "\n",
    "ad.head()"
   ]
  },
  {
   "cell_type": "code",
   "execution_count": 12,
   "metadata": {},
   "outputs": [],
   "source": [
    "# Equation: Sales = β0 + β1*TV + e\n",
    "\n",
    "# Setting the values for independent (X) and dependent variable (Y)\n",
    "\n",
    "x = ad[['TV']]\n",
    "y = ad[['Sales']]\n",
    "\n",
    "\n",
    "# Splitting the dataset into train and test set \n",
    "\n",
    "# train_test_split = splits data arrays into two subsets: training and testing\n",
    "\n",
    "# test_size = specifies the size of test data, default is 0.25\n",
    "\n",
    "# random_state = controls shuffling applies to data before applying split\n",
    "x_train,x_test,y_train,y_test = train_test_split(x,y,test_size=0.3,random_state=100)"
   ]
  },
  {
   "cell_type": "code",
   "execution_count": 16,
   "metadata": {},
   "outputs": [
    {
     "name": "stdout",
     "output_type": "stream",
     "text": [
      "Intercept:  [6.9486832]\n",
      "Coefficient:  [[0.05454575]]\n"
     ]
    }
   ],
   "source": [
    "# Implementing the linear model\n",
    "\n",
    "# fitting the linear regression model \n",
    "\n",
    "# to build a linear regression model, you need an instance of LinearRegression()\n",
    "# class and use x_train, y_train to train the model using the fit() method\n",
    "# of that class\n",
    "slr = LinearRegression()\n",
    "slr.fit(x_train,y_train)\n",
    "\n",
    "\n",
    "# Model Equation\n",
    "\n",
    "# Intercept and coefficient\n",
    "print('Intercept: ', slr.intercept_)\n",
    "print('Coefficient: ', slr.coef_)"
   ]
  },
  {
   "cell_type": "markdown",
   "metadata": {},
   "source": [
    "Regression equation: Sales = 6.948 + 0.054 * TV\n",
    "\n",
    "Interpretation: If we keep the money spent on TV for advertisement as 0, the estimated average sales will be 6.948 and a single unit increase in money spent on TV for advertisement increases sales by 0.054. "
   ]
  },
  {
   "cell_type": "code",
   "execution_count": 21,
   "metadata": {},
   "outputs": [
    {
     "name": "stdout",
     "output_type": "stream",
     "text": [
      "Prediction for test set: [[ 7.37414007]\n",
      " [19.94148154]\n",
      " [14.32326899]\n",
      " [18.82329361]\n",
      " [20.13239168]\n",
      " [18.2287449 ]\n",
      " [14.54145201]\n",
      " [17.72692398]\n",
      " [18.75238413]\n",
      " [18.77420243]\n",
      " [13.34144544]\n",
      " [19.46693349]\n",
      " [10.01415451]\n",
      " [17.1923756 ]\n",
      " [11.70507285]\n",
      " [12.08689312]\n",
      " [15.11418241]\n",
      " [16.23237035]\n",
      " [15.8669138 ]\n",
      " [13.1068987 ]\n",
      " [18.65965635]\n",
      " [14.00690363]\n",
      " [17.60692332]\n",
      " [16.60328147]\n",
      " [17.03419291]\n",
      " [18.96511257]\n",
      " [18.93783969]\n",
      " [11.05597839]\n",
      " [17.03419291]\n",
      " [13.66326538]\n",
      " [10.6796127 ]\n",
      " [10.71234015]\n",
      " [13.5487193 ]\n",
      " [17.22510305]\n",
      " [ 9.67597085]\n",
      " [13.52144643]\n",
      " [12.25053038]\n",
      " [16.13418799]\n",
      " [19.07965865]\n",
      " [17.48692266]\n",
      " [18.69783838]\n",
      " [16.53237199]\n",
      " [15.92145955]\n",
      " [18.86693021]\n",
      " [13.5050827 ]\n",
      " [11.84143724]\n",
      " [ 7.87050642]\n",
      " [20.51966653]\n",
      " [10.79961336]\n",
      " [ 9.03233096]\n",
      " [17.99419817]\n",
      " [16.29237067]\n",
      " [11.04506924]\n",
      " [14.09963141]\n",
      " [18.44147334]\n",
      " [ 9.3759692 ]\n",
      " [ 7.88687015]\n",
      " [ 8.34505447]\n",
      " [17.72692398]\n",
      " [11.62325422]]\n"
     ]
    },
    {
     "ename": "ValueError",
     "evalue": "Per-column arrays must each be 1-dimensional",
     "output_type": "error",
     "traceback": [
      "\u001b[1;31m---------------------------------------------------------------------------\u001b[0m",
      "\u001b[1;31mValueError\u001b[0m                                Traceback (most recent call last)",
      "Cell \u001b[1;32mIn[21], line 11\u001b[0m\n\u001b[0;32m      7\u001b[0m \u001b[38;5;28mprint\u001b[39m(\u001b[38;5;124m\"\u001b[39m\u001b[38;5;124mPrediction for test set: \u001b[39m\u001b[38;5;132;01m{}\u001b[39;00m\u001b[38;5;124m\"\u001b[39m\u001b[38;5;241m.\u001b[39mformat(y_pred_slr))\n\u001b[0;32m      9\u001b[0m \u001b[38;5;66;03m# Actual value and predicted value\u001b[39;00m\n\u001b[1;32m---> 11\u001b[0m slr_diff \u001b[38;5;241m=\u001b[39m \u001b[43mpd\u001b[49m\u001b[38;5;241;43m.\u001b[39;49m\u001b[43mDataFrame\u001b[49m\u001b[43m(\u001b[49m\u001b[43m{\u001b[49m\u001b[38;5;124;43m'\u001b[39;49m\u001b[38;5;124;43mActual value\u001b[39;49m\u001b[38;5;124;43m'\u001b[39;49m\u001b[43m:\u001b[49m\u001b[43m \u001b[49m\u001b[43my_test\u001b[49m\u001b[43m,\u001b[49m\u001b[43m \u001b[49m\u001b[38;5;124;43m'\u001b[39;49m\u001b[38;5;124;43mPredicted value\u001b[39;49m\u001b[38;5;124;43m'\u001b[39;49m\u001b[43m:\u001b[49m\u001b[43m \u001b[49m\u001b[43my_pred_slr\u001b[49m\u001b[43m}\u001b[49m\u001b[43m)\u001b[49m\n\u001b[0;32m     12\u001b[0m slr_diff\u001b[38;5;241m.\u001b[39mhead()\n",
      "File \u001b[1;32m~\\AppData\\Roaming\\Python\\Python311\\site-packages\\pandas\\core\\frame.py:736\u001b[0m, in \u001b[0;36mDataFrame.__init__\u001b[1;34m(self, data, index, columns, dtype, copy)\u001b[0m\n\u001b[0;32m    730\u001b[0m     mgr \u001b[38;5;241m=\u001b[39m \u001b[38;5;28mself\u001b[39m\u001b[38;5;241m.\u001b[39m_init_mgr(\n\u001b[0;32m    731\u001b[0m         data, axes\u001b[38;5;241m=\u001b[39m{\u001b[38;5;124m\"\u001b[39m\u001b[38;5;124mindex\u001b[39m\u001b[38;5;124m\"\u001b[39m: index, \u001b[38;5;124m\"\u001b[39m\u001b[38;5;124mcolumns\u001b[39m\u001b[38;5;124m\"\u001b[39m: columns}, dtype\u001b[38;5;241m=\u001b[39mdtype, copy\u001b[38;5;241m=\u001b[39mcopy\n\u001b[0;32m    732\u001b[0m     )\n\u001b[0;32m    734\u001b[0m \u001b[38;5;28;01melif\u001b[39;00m \u001b[38;5;28misinstance\u001b[39m(data, \u001b[38;5;28mdict\u001b[39m):\n\u001b[0;32m    735\u001b[0m     \u001b[38;5;66;03m# GH#38939 de facto copy defaults to False only in non-dict cases\u001b[39;00m\n\u001b[1;32m--> 736\u001b[0m     mgr \u001b[38;5;241m=\u001b[39m \u001b[43mdict_to_mgr\u001b[49m\u001b[43m(\u001b[49m\u001b[43mdata\u001b[49m\u001b[43m,\u001b[49m\u001b[43m \u001b[49m\u001b[43mindex\u001b[49m\u001b[43m,\u001b[49m\u001b[43m \u001b[49m\u001b[43mcolumns\u001b[49m\u001b[43m,\u001b[49m\u001b[43m \u001b[49m\u001b[43mdtype\u001b[49m\u001b[38;5;241;43m=\u001b[39;49m\u001b[43mdtype\u001b[49m\u001b[43m,\u001b[49m\u001b[43m \u001b[49m\u001b[43mcopy\u001b[49m\u001b[38;5;241;43m=\u001b[39;49m\u001b[43mcopy\u001b[49m\u001b[43m,\u001b[49m\u001b[43m \u001b[49m\u001b[43mtyp\u001b[49m\u001b[38;5;241;43m=\u001b[39;49m\u001b[43mmanager\u001b[49m\u001b[43m)\u001b[49m\n\u001b[0;32m    737\u001b[0m \u001b[38;5;28;01melif\u001b[39;00m \u001b[38;5;28misinstance\u001b[39m(data, ma\u001b[38;5;241m.\u001b[39mMaskedArray):\n\u001b[0;32m    738\u001b[0m     \u001b[38;5;28;01mfrom\u001b[39;00m \u001b[38;5;21;01mnumpy\u001b[39;00m\u001b[38;5;21;01m.\u001b[39;00m\u001b[38;5;21;01mma\u001b[39;00m \u001b[38;5;28;01mimport\u001b[39;00m mrecords\n",
      "File \u001b[1;32m~\\AppData\\Roaming\\Python\\Python311\\site-packages\\pandas\\core\\internals\\construction.py:503\u001b[0m, in \u001b[0;36mdict_to_mgr\u001b[1;34m(data, index, columns, dtype, typ, copy)\u001b[0m\n\u001b[0;32m    499\u001b[0m     \u001b[38;5;28;01melse\u001b[39;00m:\n\u001b[0;32m    500\u001b[0m         \u001b[38;5;66;03m# dtype check to exclude e.g. range objects, scalars\u001b[39;00m\n\u001b[0;32m    501\u001b[0m         arrays \u001b[38;5;241m=\u001b[39m [x\u001b[38;5;241m.\u001b[39mcopy() \u001b[38;5;28;01mif\u001b[39;00m \u001b[38;5;28mhasattr\u001b[39m(x, \u001b[38;5;124m\"\u001b[39m\u001b[38;5;124mdtype\u001b[39m\u001b[38;5;124m\"\u001b[39m) \u001b[38;5;28;01melse\u001b[39;00m x \u001b[38;5;28;01mfor\u001b[39;00m x \u001b[38;5;129;01min\u001b[39;00m arrays]\n\u001b[1;32m--> 503\u001b[0m \u001b[38;5;28;01mreturn\u001b[39;00m \u001b[43marrays_to_mgr\u001b[49m\u001b[43m(\u001b[49m\u001b[43marrays\u001b[49m\u001b[43m,\u001b[49m\u001b[43m \u001b[49m\u001b[43mcolumns\u001b[49m\u001b[43m,\u001b[49m\u001b[43m \u001b[49m\u001b[43mindex\u001b[49m\u001b[43m,\u001b[49m\u001b[43m \u001b[49m\u001b[43mdtype\u001b[49m\u001b[38;5;241;43m=\u001b[39;49m\u001b[43mdtype\u001b[49m\u001b[43m,\u001b[49m\u001b[43m \u001b[49m\u001b[43mtyp\u001b[49m\u001b[38;5;241;43m=\u001b[39;49m\u001b[43mtyp\u001b[49m\u001b[43m,\u001b[49m\u001b[43m \u001b[49m\u001b[43mconsolidate\u001b[49m\u001b[38;5;241;43m=\u001b[39;49m\u001b[43mcopy\u001b[49m\u001b[43m)\u001b[49m\n",
      "File \u001b[1;32m~\\AppData\\Roaming\\Python\\Python311\\site-packages\\pandas\\core\\internals\\construction.py:114\u001b[0m, in \u001b[0;36marrays_to_mgr\u001b[1;34m(arrays, columns, index, dtype, verify_integrity, typ, consolidate)\u001b[0m\n\u001b[0;32m    111\u001b[0m \u001b[38;5;28;01mif\u001b[39;00m verify_integrity:\n\u001b[0;32m    112\u001b[0m     \u001b[38;5;66;03m# figure out the index, if necessary\u001b[39;00m\n\u001b[0;32m    113\u001b[0m     \u001b[38;5;28;01mif\u001b[39;00m index \u001b[38;5;129;01mis\u001b[39;00m \u001b[38;5;28;01mNone\u001b[39;00m:\n\u001b[1;32m--> 114\u001b[0m         index \u001b[38;5;241m=\u001b[39m \u001b[43m_extract_index\u001b[49m\u001b[43m(\u001b[49m\u001b[43marrays\u001b[49m\u001b[43m)\u001b[49m\n\u001b[0;32m    115\u001b[0m     \u001b[38;5;28;01melse\u001b[39;00m:\n\u001b[0;32m    116\u001b[0m         index \u001b[38;5;241m=\u001b[39m ensure_index(index)\n",
      "File \u001b[1;32m~\\AppData\\Roaming\\Python\\Python311\\site-packages\\pandas\\core\\internals\\construction.py:664\u001b[0m, in \u001b[0;36m_extract_index\u001b[1;34m(data)\u001b[0m\n\u001b[0;32m    662\u001b[0m         raw_lengths\u001b[38;5;241m.\u001b[39mappend(\u001b[38;5;28mlen\u001b[39m(val))\n\u001b[0;32m    663\u001b[0m     \u001b[38;5;28;01melif\u001b[39;00m \u001b[38;5;28misinstance\u001b[39m(val, np\u001b[38;5;241m.\u001b[39mndarray) \u001b[38;5;129;01mand\u001b[39;00m val\u001b[38;5;241m.\u001b[39mndim \u001b[38;5;241m>\u001b[39m \u001b[38;5;241m1\u001b[39m:\n\u001b[1;32m--> 664\u001b[0m         \u001b[38;5;28;01mraise\u001b[39;00m \u001b[38;5;167;01mValueError\u001b[39;00m(\u001b[38;5;124m\"\u001b[39m\u001b[38;5;124mPer-column arrays must each be 1-dimensional\u001b[39m\u001b[38;5;124m\"\u001b[39m)\n\u001b[0;32m    666\u001b[0m \u001b[38;5;28;01mif\u001b[39;00m \u001b[38;5;129;01mnot\u001b[39;00m indexes \u001b[38;5;129;01mand\u001b[39;00m \u001b[38;5;129;01mnot\u001b[39;00m raw_lengths:\n\u001b[0;32m    667\u001b[0m     \u001b[38;5;28;01mraise\u001b[39;00m \u001b[38;5;167;01mValueError\u001b[39;00m(\u001b[38;5;124m\"\u001b[39m\u001b[38;5;124mIf using all scalar values, you must pass an index\u001b[39m\u001b[38;5;124m\"\u001b[39m)\n",
      "\u001b[1;31mValueError\u001b[0m: Per-column arrays must each be 1-dimensional"
     ]
    }
   ],
   "source": [
    "# Prediction on the test set\n",
    "\n",
    "# prediction on test set\n",
    "y_pred_slr = slr.predict(x_test)\n",
    "\n",
    "# Predicted values\n",
    "print(\"Prediction for test set: {}\".format(y_pred_slr))"
   ]
  },
  {
   "cell_type": "code",
   "execution_count": 28,
   "metadata": {},
   "outputs": [
    {
     "data": {
      "text/html": [
       "<div>\n",
       "<style scoped>\n",
       "    .dataframe tbody tr th:only-of-type {\n",
       "        vertical-align: middle;\n",
       "    }\n",
       "\n",
       "    .dataframe tbody tr th {\n",
       "        vertical-align: top;\n",
       "    }\n",
       "\n",
       "    .dataframe thead th {\n",
       "        text-align: right;\n",
       "    }\n",
       "</style>\n",
       "<table border=\"1\" class=\"dataframe\">\n",
       "  <thead>\n",
       "    <tr style=\"text-align: right;\">\n",
       "      <th></th>\n",
       "      <th>Actual value</th>\n",
       "      <th>Predicted value</th>\n",
       "    </tr>\n",
       "  </thead>\n",
       "  <tbody>\n",
       "    <tr>\n",
       "      <th>126</th>\n",
       "      <td>6.6</td>\n",
       "      <td>7.374140</td>\n",
       "    </tr>\n",
       "    <tr>\n",
       "      <th>104</th>\n",
       "      <td>20.7</td>\n",
       "      <td>19.941482</td>\n",
       "    </tr>\n",
       "    <tr>\n",
       "      <th>99</th>\n",
       "      <td>17.2</td>\n",
       "      <td>14.323269</td>\n",
       "    </tr>\n",
       "    <tr>\n",
       "      <th>92</th>\n",
       "      <td>19.4</td>\n",
       "      <td>18.823294</td>\n",
       "    </tr>\n",
       "    <tr>\n",
       "      <th>111</th>\n",
       "      <td>21.8</td>\n",
       "      <td>20.132392</td>\n",
       "    </tr>\n",
       "  </tbody>\n",
       "</table>\n",
       "</div>"
      ],
      "text/plain": [
       "     Actual value  Predicted value\n",
       "126           6.6         7.374140\n",
       "104          20.7        19.941482\n",
       "99           17.2        14.323269\n",
       "92           19.4        18.823294\n",
       "111          21.8        20.132392"
      ]
     },
     "execution_count": 28,
     "metadata": {},
     "output_type": "execute_result"
    }
   ],
   "source": [
    "# Actual value and predicted value\n",
    "\n",
    "# using np.squeeze to assure that arrays are one dimension\n",
    "y_test = np.squeeze(y_test)\n",
    "y_pred_slr = np.squeeze(y_pred_slr)\n",
    "\n",
    "slr_diff = pd.DataFrame({'Actual value': y_test, 'Predicted value': y_pred_slr})\n",
    "slr_diff.head()"
   ]
  },
  {
   "cell_type": "code",
   "execution_count": 29,
   "metadata": {},
   "outputs": [
    {
     "data": {
      "image/png": "[encoded data removed]",
      "text/plain": [
       "<Figure size 640x480 with 1 Axes>"
      ]
     },
     "metadata": {},
     "output_type": "display_data"
    }
   ],
   "source": [
    "# Line of best fit\n",
    "\n",
    "plt.scatter(x_test,y_test)\n",
    "plt.plot(x_test,y_pred_slr,'Red') # generates line graph between x and pred outcome\n",
    "plt.show()"
   ]
  },
  {
   "cell_type": "code",
   "execution_count": 32,
   "metadata": {},
   "outputs": [
    {
     "name": "stdout",
     "output_type": "stream",
     "text": [
      "R squared: 81.10\n",
      "Mean Absolute Error: 1.6480589869746525\n",
      "Mean Square Error: 4.077556371826948\n",
      "Root Mean Square Error: 2.019296008966231\n"
     ]
    }
   ],
   "source": [
    "# Model evaluation\n",
    "\n",
    "from sklearn import metrics\n",
    "\n",
    "mean_ab_error = metrics.mean_absolute_error(y_test, y_pred_slr)\n",
    "mean_sq_error = metrics.mean_squared_error(y_test, y_pred_slr)\n",
    "root_mean_sq_err = np.sqrt(metrics.mean_squared_error(y_test, y_pred_slr))\n",
    "\n",
    "\n",
    "# score method computes R^2 ; x and y are input features to evaluate performance\n",
    "# '{:.2f} formatted as a floating-point number \n",
    "print('R squared: {:.2f}'.format(slr.score(x,y)*100))\n",
    "\n",
    "\n",
    "# Absolute difference between actual/true and predicted values, lower = better\n",
    "print('Mean Absolute Error:', mean_ab_error)\n",
    "\n",
    "print('Mean Square Error:', mean_sq_error)\n",
    "\n",
    "# RMSE = SD of the errors which occur when a prediction is made on a dataset \n",
    "# root is considered while determining the accuracy of the model\n",
    "print('Root Mean Square Error:',root_mean_sq_err)"
   ]
  }
 ],
 "metadata": {
  "kernelspec": {
   "display_name": "Python 3",
   "language": "python",
   "name": "python3"
  },
  "language_info": {
   "codemirror_mode": {
    "name": "ipython",
    "version": 3
   },
   "file_extension": ".py",
   "mimetype": "text/x-python",
   "name": "python",
   "nbconvert_exporter": "python",
   "pygments_lexer": "ipython3",
   "version": "3.11.5"
  }
 },
 "nbformat": 4,
 "nbformat_minor": 2
}
