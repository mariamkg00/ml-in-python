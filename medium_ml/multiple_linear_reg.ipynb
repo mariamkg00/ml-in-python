{
 "cells": [
  {
   "cell_type": "markdown",
   "metadata": {},
   "source": [
    "## Multiple Linear Regression \n",
    "\n",
    "- is an extension of simple linear regression as it takes more then one predictor variable to predict the response variable. \n",
    "- models the linear relationship between a single dependent continuous variable and more than one independent variable. \n",
    "- uses two or more independent variables to predict a dependent variable by fitting a best linear relationship \n",
    "\n",
    "*Equation*: Y = β0 + β1X1 + β2X2 + β3X3 + … + βnXn + e\n",
    "\n",
    "Y = dependent variable/target variable\n",
    "\n",
    "β0 = intercept of regression line\n",
    "\n",
    "β1,β2,β3,... = slope of the regression line which tells whether or not the \n",
    "line is increasing or decreasing\n",
    "\n",
    "X1,X2,X3,... = independent variable\n",
    "\n",
    "e = error"
   ]
  },
  {
   "cell_type": "markdown",
   "metadata": {},
   "source": [
    "**Example**: Predicting sales based on money spent on TV, Radio, and Newspaper for marketing. In this case, there are 3 independent variables, (money spent on TV, Radio, and Newspaper) for marketing, and one dependent variable (sales) that is the value to be predicted"
   ]
  },
  {
   "cell_type": "markdown",
   "metadata": {},
   "source": [
    "**Problem statement**: Build a multiple linear regression model to predict sales based on the moneyspent on TV, Radio, and Newspaper for advertising. "
   ]
  },
  {
   "cell_type": "code",
   "execution_count": 4,
   "metadata": {},
   "outputs": [
    {
     "data": {
      "text/html": [
       "<div>\n",
       "<style scoped>\n",
       "    .dataframe tbody tr th:only-of-type {\n",
       "        vertical-align: middle;\n",
       "    }\n",
       "\n",
       "    .dataframe tbody tr th {\n",
       "        vertical-align: top;\n",
       "    }\n",
       "\n",
       "    .dataframe thead th {\n",
       "        text-align: right;\n",
       "    }\n",
       "</style>\n",
       "<table border=\"1\" class=\"dataframe\">\n",
       "  <thead>\n",
       "    <tr style=\"text-align: right;\">\n",
       "      <th></th>\n",
       "      <th>TV</th>\n",
       "      <th>Radio</th>\n",
       "      <th>Newspaper</th>\n",
       "      <th>Sales</th>\n",
       "    </tr>\n",
       "  </thead>\n",
       "  <tbody>\n",
       "    <tr>\n",
       "      <th>0</th>\n",
       "      <td>230.1</td>\n",
       "      <td>37.8</td>\n",
       "      <td>69.2</td>\n",
       "      <td>22.1</td>\n",
       "    </tr>\n",
       "    <tr>\n",
       "      <th>1</th>\n",
       "      <td>44.5</td>\n",
       "      <td>39.3</td>\n",
       "      <td>45.1</td>\n",
       "      <td>10.4</td>\n",
       "    </tr>\n",
       "    <tr>\n",
       "      <th>2</th>\n",
       "      <td>17.2</td>\n",
       "      <td>45.9</td>\n",
       "      <td>69.3</td>\n",
       "      <td>12.0</td>\n",
       "    </tr>\n",
       "    <tr>\n",
       "      <th>3</th>\n",
       "      <td>151.5</td>\n",
       "      <td>41.3</td>\n",
       "      <td>58.5</td>\n",
       "      <td>16.5</td>\n",
       "    </tr>\n",
       "    <tr>\n",
       "      <th>4</th>\n",
       "      <td>180.8</td>\n",
       "      <td>10.8</td>\n",
       "      <td>58.4</td>\n",
       "      <td>17.9</td>\n",
       "    </tr>\n",
       "  </tbody>\n",
       "</table>\n",
       "</div>"
      ],
      "text/plain": [
       "      TV  Radio  Newspaper  Sales\n",
       "0  230.1   37.8       69.2   22.1\n",
       "1   44.5   39.3       45.1   10.4\n",
       "2   17.2   45.9       69.3   12.0\n",
       "3  151.5   41.3       58.5   16.5\n",
       "4  180.8   10.8       58.4   17.9"
      ]
     },
     "execution_count": 4,
     "metadata": {},
     "output_type": "execute_result"
    }
   ],
   "source": [
    "# importing libraries\n",
    "\n",
    "import pandas as pd\n",
    "import numpy as np\n",
    "import matplotlib.pyplot as plt\n",
    "import seaborn as sns\n",
    "\n",
    "# reading in the data\n",
    "ad = pd.read_csv('advertising.csv')\n",
    "\n",
    "# previewing the data\n",
    "ad.head()"
   ]
  },
  {
   "cell_type": "markdown",
   "metadata": {},
   "source": [
    "**Equation**: Sales(Y) = β0 + (β1 * TV) + (β2 * Radio) + (β3 * Newspaper) + e"
   ]
  },
  {
   "cell_type": "code",
   "execution_count": 16,
   "metadata": {},
   "outputs": [
    {
     "name": "stdout",
     "output_type": "stream",
     "text": [
      "Intercept:  [4.33459586]\n",
      "Coefficients: [[0.05382911 0.11001224 0.00628995]]\n"
     ]
    }
   ],
   "source": [
    "# setting the value for x and y \n",
    "x = ad[['TV','Radio','Newspaper']]\n",
    "y = ad[['Sales']]\n",
    "\n",
    "\n",
    "# splitting data into train and test\n",
    "from sklearn.model_selection import train_test_split\n",
    "x_train,x_test,y_train,y_test = train_test_split(x,y,test_size = 0.3, random_state = 100)\n",
    "\n",
    "\n",
    "# fitting the multiple linear regression model\n",
    "from sklearn.linear_model import LinearRegression\n",
    "mlr = LinearRegression()\n",
    "mlr.fit(x_train,y_train)\n",
    "\n",
    "\n",
    "# printing intercept and coefficient\n",
    "print('Intercept: ', mlr.intercept_)\n",
    "print('Coefficients:',mlr.coef_)"
   ]
  },
  {
   "cell_type": "markdown",
   "metadata": {},
   "source": [
    "*Regression equation*: Sales = 4.3345 + (0.0538*TV)+(1.1100 *Radio)+ (0.0062 *Newspaper) +e\n",
    "\n",
    "Interpretation: With the intercept being *4.3345*, this means that if the money spent on TV,Radio and Newspaper advertisements is 0, then the estimated average sales will be 4.3345, and a single unit increase in money spent on TV for ads increases sales by 0.053, a single unit increase in money spent on radio ads increases sales by 1.11, and money spent on newspaper ads increases sales by 0.0062.."
   ]
  },
  {
   "cell_type": "code",
   "execution_count": 18,
   "metadata": {},
   "outputs": [
    {
     "name": "stdout",
     "output_type": "stream",
     "text": [
      "Prediction for test set: [[ 9.35221067]\n",
      " [20.96344625]\n",
      " [16.48851064]\n",
      " [20.10971005]\n",
      " [21.67148354]\n",
      " [16.16054424]\n",
      " [13.5618056 ]\n",
      " [15.39338129]\n",
      " [20.81980757]\n",
      " [21.00537077]\n",
      " [12.29451311]\n",
      " [20.70848608]\n",
      " [ 8.17367308]\n",
      " [16.82471534]\n",
      " [10.48954832]\n",
      " [ 9.99530649]\n",
      " [16.34698901]\n",
      " [14.5758119 ]\n",
      " [17.23065133]\n",
      " [12.56890735]\n",
      " [18.55715915]\n",
      " [12.12402775]\n",
      " [20.43312609]\n",
      " [17.78017811]\n",
      " [16.73623408]\n",
      " [21.60387629]\n",
      " [20.13532087]\n",
      " [10.82559967]\n",
      " [19.12782848]\n",
      " [14.84537816]\n",
      " [13.13597397]\n",
      " [ 9.07757918]\n",
      " [12.07834143]\n",
      " [16.62824427]\n",
      " [ 8.41792841]\n",
      " [14.0456697 ]\n",
      " [ 9.92050209]\n",
      " [14.26101605]\n",
      " [16.76262961]\n",
      " [17.17185467]\n",
      " [18.88797595]\n",
      " [15.50165469]\n",
      " [15.78688377]\n",
      " [16.86266686]\n",
      " [13.03405813]\n",
      " [10.47673934]\n",
      " [10.6141644 ]\n",
      " [20.85264977]\n",
      " [10.1517568 ]\n",
      " [ 6.88471443]\n",
      " [17.88702583]\n",
      " [18.16013938]\n",
      " [12.55907083]\n",
      " [16.28189561]\n",
      " [18.98024679]\n",
      " [11.33714913]\n",
      " [ 5.91026916]\n",
      " [10.06159509]\n",
      " [17.62383031]\n",
      " [13.19628335]]\n"
     ]
    }
   ],
   "source": [
    "# Prediction of test set\n",
    "y_pred_mlr = mlr.predict(x_test)\n",
    "\n",
    "# Predicted values\n",
    "print(\"Prediction for test set: {}\".format(y_pred_mlr))\n"
   ]
  },
  {
   "cell_type": "code",
   "execution_count": 21,
   "metadata": {},
   "outputs": [
    {
     "data": {
      "text/html": [
       "<div>\n",
       "<style scoped>\n",
       "    .dataframe tbody tr th:only-of-type {\n",
       "        vertical-align: middle;\n",
       "    }\n",
       "\n",
       "    .dataframe tbody tr th {\n",
       "        vertical-align: top;\n",
       "    }\n",
       "\n",
       "    .dataframe thead th {\n",
       "        text-align: right;\n",
       "    }\n",
       "</style>\n",
       "<table border=\"1\" class=\"dataframe\">\n",
       "  <thead>\n",
       "    <tr style=\"text-align: right;\">\n",
       "      <th></th>\n",
       "      <th>Actual value</th>\n",
       "      <th>Predicted value</th>\n",
       "    </tr>\n",
       "  </thead>\n",
       "  <tbody>\n",
       "    <tr>\n",
       "      <th>126</th>\n",
       "      <td>6.6</td>\n",
       "      <td>9.352211</td>\n",
       "    </tr>\n",
       "    <tr>\n",
       "      <th>104</th>\n",
       "      <td>20.7</td>\n",
       "      <td>20.963446</td>\n",
       "    </tr>\n",
       "    <tr>\n",
       "      <th>99</th>\n",
       "      <td>17.2</td>\n",
       "      <td>16.488511</td>\n",
       "    </tr>\n",
       "    <tr>\n",
       "      <th>92</th>\n",
       "      <td>19.4</td>\n",
       "      <td>20.109710</td>\n",
       "    </tr>\n",
       "    <tr>\n",
       "      <th>111</th>\n",
       "      <td>21.8</td>\n",
       "      <td>21.671484</td>\n",
       "    </tr>\n",
       "  </tbody>\n",
       "</table>\n",
       "</div>"
      ],
      "text/plain": [
       "     Actual value  Predicted value\n",
       "126           6.6         9.352211\n",
       "104          20.7        20.963446\n",
       "99           17.2        16.488511\n",
       "92           19.4        20.109710\n",
       "111          21.8        21.671484"
      ]
     },
     "execution_count": 21,
     "metadata": {},
     "output_type": "execute_result"
    }
   ],
   "source": [
    "# once we have trained the model, we can make predictions using the predict() \n",
    "# function; passing the values of x_test to this method to compare values called\n",
    "# y_pred_mlr to y_test to check how accurate predicted values are\n",
    "\n",
    "y_test = np.squeeze(y_test)\n",
    "y_pred_mlr = np.squeeze(y_pred_mlr)\n",
    "\n",
    "\n",
    "mlr_diff = pd.DataFrame({'Actual value': y_test,\n",
    "                         'Predicted value': y_pred_mlr})\n",
    "\n",
    "mlr_diff.head()"
   ]
  },
  {
   "cell_type": "code",
   "execution_count": 26,
   "metadata": {},
   "outputs": [
    {
     "name": "stdout",
     "output_type": "stream",
     "text": [
      "R squared: 90.11\n",
      "Mean Absolute Error: 1.227818356658941\n",
      "Mean Square Error: 2.6360765623280646\n",
      "RMSE: 1.6235998775338907\n"
     ]
    }
   ],
   "source": [
    "# Model evaluation\n",
    "\n",
    "from sklearn import metrics\n",
    "\n",
    "mean_ab_error = metrics.mean_absolute_error(y_test,y_pred_mlr)\n",
    "mean_sq_error = metrics.mean_squared_error(y_test, y_pred_mlr)\n",
    "rmse = np.sqrt(metrics.mean_squared_error(y_test,y_pred_mlr))\n",
    "\n",
    "print('R squared: {:.2f}'.format(mlr.score(x,y)*100))\n",
    "print('Mean Absolute Error:',mean_ab_error)\n",
    "print('Mean Square Error:', mean_sq_error)\n",
    "print('RMSE:',rmse)"
   ]
  },
  {
   "cell_type": "markdown",
   "metadata": {},
   "source": [
    "*R squared* : 90.11% of the variation in the outcome variable is explained by the predictor variables\n",
    "\n",
    "*MAE*: MAE is close to zero, which means the model's performance is good. \n",
    "\n",
    "*RMSE*: metric used to measure accuracy pf the model"
   ]
  }
 ],
 "metadata": {
  "kernelspec": {
   "display_name": "Python 3",
   "language": "python",
   "name": "python3"
  },
  "language_info": {
   "codemirror_mode": {
    "name": "ipython",
    "version": 3
   },
   "file_extension": ".py",
   "mimetype": "text/x-python",
   "name": "python",
   "nbconvert_exporter": "python",
   "pygments_lexer": "ipython3",
   "version": "3.11.5"
  }
 },
 "nbformat": 4,
 "nbformat_minor": 2
}
